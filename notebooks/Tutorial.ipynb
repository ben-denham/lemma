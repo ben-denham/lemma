{
 "cells": [
  {
   "cell_type": "code",
   "execution_count": 1,
   "metadata": {},
   "outputs": [],
   "source": [
    "%load_ext lemma.ipython"
   ]
  },
  {
   "cell_type": "code",
   "execution_count": 2,
   "metadata": {},
   "outputs": [],
   "source": [
    "%%hy\n",
    "\n",
    "(require [lemma.core :as le])\n",
    "(import [lemma.exceptions [LeEquationError]])\n",
    "(import [lemma.domain.algebra [seq-sum pow length add sub PI\n",
    "                               div/frac :as div\n",
    "                               mul/times :as mul]])"
   ]
  },
  {
   "cell_type": "code",
   "execution_count": 3,
   "metadata": {},
   "outputs": [
    {
     "name": "stdout",
     "output_type": "stream",
     "text": [
      "foo\n",
      "bar\n"
     ]
    },
    {
     "data": {
      "text/html": [
       "<table class=\"lemma-table\"><tr><td>$$1 + 2$$</td><td>3</td></tr></table>"
      ],
      "text/plain": [
       "LeExpression#(LeCallableOperator#add 1 2)"
      ]
     },
     "execution_count": 3,
     "metadata": {},
     "output_type": "execute_result"
    }
   ],
   "source": [
    "print('foo')\n",
    "%hy (print \"bar\")\n",
    "%lemma (add 1 2)"
   ]
  },
  {
   "cell_type": "code",
   "execution_count": 4,
   "metadata": {},
   "outputs": [
    {
     "data": {
      "text/html": [
       "<table class=\"lemma-table\"><tr><td>$$\\pi$$</td><td>3.141592653589793</td></tr><tr><td>$$\\frac{22}{7}$$</td><td>3.142857142857143</td></tr><tr><td>$$3 + 0.14$$</td><td>3.14</td></tr></table>"
      ],
      "text/plain": [
       "<IPython.core.display.HTML object>"
      ]
     },
     "execution_count": 4,
     "metadata": {},
     "output_type": "execute_result"
    }
   ],
   "source": [
    "%%lemma\n",
    "\n",
    "PI\n",
    "(div 22 7)\n",
    "(add 3 0.14)"
   ]
  },
  {
   "cell_type": "markdown",
   "metadata": {},
   "source": [
    "## Simple expression"
   ]
  },
  {
   "cell_type": "code",
   "execution_count": 5,
   "metadata": {},
   "outputs": [
    {
     "data": {
      "text/html": [
       "<table class=\"lemma-table\"><tr><td>$$1 + \\pi$$</td><td>4.141592653589793</td></tr></table>"
      ],
      "text/plain": [
       "LeExpression#(LeCallableOperator#add 1 LeConstant#PI)"
      ]
     },
     "execution_count": 5,
     "metadata": {},
     "output_type": "execute_result"
    }
   ],
   "source": [
    "%%hy\n",
    "\n",
    ";; Compile a lemma expression with le.expr\n",
    "(setv simple-expression\n",
    " (le.expr (add 1 PI)))\n",
    "\n",
    "simple-expression"
   ]
  },
  {
   "cell_type": "code",
   "execution_count": 6,
   "metadata": {},
   "outputs": [
    {
     "data": {
      "text/html": [
       "$$1 + \\pi$$"
      ],
      "text/plain": [
       "'1 + \\\\pi'"
      ]
     },
     "execution_count": 6,
     "metadata": {},
     "output_type": "execute_result"
    }
   ],
   "source": [
    "%%hy\n",
    "\n",
    ";; Generate latex for a lemma expression \n",
    "(.latex simple-expression)"
   ]
  },
  {
   "cell_type": "code",
   "execution_count": 7,
   "metadata": {},
   "outputs": [
    {
     "data": {
      "text/plain": [
       "4.141592653589793"
      ]
     },
     "execution_count": 7,
     "metadata": {},
     "output_type": "execute_result"
    }
   ],
   "source": [
    "%%hy\n",
    "\n",
    ";; Execute a lemma expression like a function\n",
    "(simple-expression)"
   ]
  },
  {
   "cell_type": "markdown",
   "metadata": {},
   "source": [
    "## More complex example (with `seq-sum` and an identifier)"
   ]
  },
  {
   "cell_type": "code",
   "execution_count": 8,
   "metadata": {},
   "outputs": [
    {
     "data": {
      "text/html": [
       "$$\\sum_{a \\in \\{1, 2\\}, \\beta \\in \\{3, 4\\}} 1 - \\frac{a}{\\beta}$$"
      ],
      "text/plain": [
       "'\\\\sum_{a \\\\in \\\\{1, 2\\\\}, \\\\beta \\\\in \\\\{3, 4\\\\}} 1 - \\\\frac{a}{\\\\beta}'"
      ]
     },
     "metadata": {},
     "output_type": "display_data"
    },
    {
     "name": "stdout",
     "output_type": "stream",
     "text": [
      "2.25\n"
     ]
    }
   ],
   "source": [
    "%%hy\n",
    "\n",
    ";; Specify latex formatter for variable names.\n",
    "(le.def-identifier beta r\"\\beta\")\n",
    "\n",
    "(setv complex-expression\n",
    " (le.expr\n",
    "  (seq-sum [a [1 2]\n",
    "            beta [3 4]]\n",
    "   (sub 1 (div a beta)))))\n",
    "\n",
    "(display (.latex complex-expression))\n",
    "(print (complex-expression))"
   ]
  },
  {
   "cell_type": "code",
   "execution_count": 9,
   "metadata": {},
   "outputs": [
    {
     "name": "stdout",
     "output_type": "stream",
     "text": [
      "'(sum (lfor a [1 2] beta [3 4] (do (require hy.contrib.walk) (hy.contrib.walk.let [args [1 (do (require hy.contrib.walk) (hy.contrib.walk.let [numerator a denominator beta] (do (/ numerator denominator))))]] (do (hy.core.shadow.- #* args))))))\n"
     ]
    }
   ],
   "source": [
    "%%hy\n",
    "\n",
    "(import [hy.contrib.hy-repr [hy-repr]])\n",
    "\n",
    ";; You can even print the Hy code for an expression.\n",
    "(print (hy-repr (.hy complex-expression)))"
   ]
  },
  {
   "cell_type": "markdown",
   "metadata": {},
   "source": [
    "## Order of operations"
   ]
  },
  {
   "cell_type": "code",
   "execution_count": 10,
   "metadata": {},
   "outputs": [
    {
     "data": {
      "text/html": [
       "$$\\left(1 + 2\\right) - 3$$"
      ],
      "text/plain": [
       "'\\\\left(1 + 2\\\\right) - 3'"
      ]
     },
     "metadata": {},
     "output_type": "display_data"
    },
    {
     "name": "stdout",
     "output_type": "stream",
     "text": [
      "0\n",
      "-----\n"
     ]
    },
    {
     "data": {
      "text/html": [
       "$$1 - \\left(2 + 3\\right)$$"
      ],
      "text/plain": [
       "'1 - \\\\left(2 + 3\\\\right)'"
      ]
     },
     "metadata": {},
     "output_type": "display_data"
    },
    {
     "name": "stdout",
     "output_type": "stream",
     "text": [
      "-4\n",
      "-----\n"
     ]
    },
    {
     "data": {
      "text/html": [
       "$$1 - \\frac{2}{3}$$"
      ],
      "text/plain": [
       "'1 - \\\\frac{2}{3}'"
      ]
     },
     "metadata": {},
     "output_type": "display_data"
    },
    {
     "name": "stdout",
     "output_type": "stream",
     "text": [
      "0.33333333333333337\n",
      "-----\n"
     ]
    }
   ],
   "source": [
    "%%hy\n",
    "\n",
    ";; Parens will be automatically added based on operator precedence.\n",
    "(setv order-examples\n",
    " [(le.expr (sub (add 1 2) 3))\n",
    "  (le.expr (sub 1 (add 2 3)))\n",
    "  (le.expr (sub 1 (div 2 3)))])\n",
    "\n",
    "(for [example order-examples]\n",
    "  (display (.latex example))\n",
    "  (print (example))\n",
    "  (print \"-----\"))"
   ]
  },
  {
   "cell_type": "code",
   "execution_count": 11,
   "metadata": {},
   "outputs": [
    {
     "data": {
      "text/html": [
       "$$1 - \\left(\\frac{2}{3}\\right)$$"
      ],
      "text/plain": [
       "'1 - \\\\left(\\\\frac{2}{3}\\\\right)'"
      ]
     },
     "metadata": {},
     "output_type": "display_data"
    },
    {
     "name": "stdout",
     "output_type": "stream",
     "text": [
      "0.33333333333333337\n"
     ]
    }
   ],
   "source": [
    "%%hy\n",
    "\n",
    ";; Use #p to explicitly add parens.\n",
    "(setv parens-example (le.expr (sub 1 #p(div 2 3))))\n",
    "(display (.latex parens-example))\n",
    "(print (parens-example))"
   ]
  },
  {
   "cell_type": "code",
   "execution_count": 12,
   "metadata": {},
   "outputs": [
    {
     "data": {
      "text/html": [
       "$$1 + 2 + 3$$"
      ],
      "text/plain": [
       "'1 + 2 + 3'"
      ]
     },
     "metadata": {},
     "output_type": "display_data"
    },
    {
     "name": "stdout",
     "output_type": "stream",
     "text": [
      "6\n"
     ]
    }
   ],
   "source": [
    "%%hy\n",
    "\n",
    ";; Use #b to explicitly remove parens.\n",
    "(setv bare-example (le.expr (add 1 #b(add 2 3))))\n",
    "(display (.latex bare-example))\n",
    "(print (bare-example))"
   ]
  },
  {
   "cell_type": "markdown",
   "metadata": {},
   "source": [
    "## Formulas"
   ]
  },
  {
   "cell_type": "code",
   "execution_count": 13,
   "metadata": {},
   "outputs": [],
   "source": [
    "%%hy\n",
    "\n",
    "(le.def-identifier xs \"X\")\n",
    "(le.def-identifier mu r\"\\mu\")\n",
    "\n",
    "(le.def-formula variance r\"\\sigma^2\"\n",
    "  [xs mu n]\n",
    "  \"Formula for population variance.\"\n",
    "  (div\n",
    "   (seq-sum [x xs]\n",
    "    (pow (sub x mu) 2))\n",
    "   n))"
   ]
  },
  {
   "cell_type": "code",
   "execution_count": 14,
   "metadata": {},
   "outputs": [
    {
     "data": {
      "text/html": [
       "$$\\sigma^2\\left(\\{1, 2, 3\\}, 2, 3\\right)$$"
      ],
      "text/plain": [
       "'\\\\sigma^2\\\\left(\\\\{1, 2, 3\\\\}, 2, 3\\\\right)'"
      ]
     },
     "metadata": {},
     "output_type": "display_data"
    },
    {
     "name": "stdout",
     "output_type": "stream",
     "text": [
      "0.6666666666666666\n"
     ]
    }
   ],
   "source": [
    "%%hy\n",
    "\n",
    ";; Use a formula like any other operator\n",
    "(setv var-expression (le.expr (variance [1 2 3] :mu 2 :n 3)))\n",
    "(display (.latex var-expression))\n",
    "(print (var-expression))"
   ]
  },
  {
   "cell_type": "code",
   "execution_count": 15,
   "metadata": {
    "scrolled": true
   },
   "outputs": [
    {
     "data": {
      "text/html": [
       "$$\\frac{\\sum_{x \\in \\{1, 2, 3\\}} \\left(x - 2\\right)^{2}}{3}$$"
      ],
      "text/plain": [
       "'\\\\frac{\\\\sum_{x \\\\in \\\\{1, 2, 3\\\\}} \\\\left(x - 2\\\\right)^{2}}{3}'"
      ]
     },
     "metadata": {},
     "output_type": "display_data"
    },
    {
     "name": "stdout",
     "output_type": "stream",
     "text": [
      "0.6666666666666666\n"
     ]
    }
   ],
   "source": [
    "%%hy\n",
    "\n",
    ";; Or use a formula as an operator whose latex representation is the formula's body\n",
    "(setv var-expression (le.expr (variance.op [1 2 3] 2 3)))\n",
    "(display (.latex var-expression))\n",
    "(print (var-expression))"
   ]
  },
  {
   "cell_type": "code",
   "execution_count": 16,
   "metadata": {},
   "outputs": [
    {
     "data": {
      "text/html": [
       "$$\\sigma^2\\left(X, \\mu, n\\right)$$"
      ],
      "text/plain": [
       "'\\\\sigma^2\\\\left(X, \\\\mu, n\\\\right)'"
      ]
     },
     "execution_count": 16,
     "metadata": {},
     "output_type": "execute_result"
    }
   ],
   "source": [
    "%%hy\n",
    "\n",
    ";; Get the signature of a formula\n",
    "(.signature-latex variance)"
   ]
  },
  {
   "cell_type": "code",
   "execution_count": 17,
   "metadata": {},
   "outputs": [
    {
     "data": {
      "text/html": [
       "$$\\sigma^2\\left(X, \\mu, n\\right) = \\frac{\\sum_{x \\in X} \\left(x - \\mu\\right)^{2}}{n}$$"
      ],
      "text/plain": [
       "'\\\\sigma^2\\\\left(X, \\\\mu, n\\\\right) = \\\\frac{\\\\sum_{x \\\\in X} \\\\left(x - \\\\mu\\\\right)^{2}}{n}'"
      ]
     },
     "metadata": {},
     "output_type": "display_data"
    },
    {
     "data": {
      "text/html": [
       "$$\\sigma^2\\left(\\{1, 2, 3\\}, 2, 3\\right) = \\frac{\\sum_{x \\in \\{1, 2, 3\\}} \\left(x - 2\\right)^{2}}{3}$$"
      ],
      "text/plain": [
       "'\\\\sigma^2\\\\left(\\\\{1, 2, 3\\\\}, 2, 3\\\\right) = \\\\frac{\\\\sum_{x \\\\in \\\\{1, 2, 3\\\\}} \\\\left(x - 2\\\\right)^{2}}{3}'"
      ]
     },
     "metadata": {},
     "output_type": "display_data"
    }
   ],
   "source": [
    "%%hy\n",
    "\n",
    ";; Get the definition of a formula\n",
    "(display (.latex variance))\n",
    "(display (.latex variance [1 2 3] 2 3))"
   ]
  },
  {
   "cell_type": "code",
   "execution_count": 18,
   "metadata": {},
   "outputs": [
    {
     "data": {
      "text/plain": [
       "16.666666666666668"
      ]
     },
     "execution_count": 18,
     "metadata": {},
     "output_type": "execute_result"
    }
   ],
   "source": [
    "%%hy\n",
    "\n",
    ";; Directly run a formula like a function\n",
    "(variance :xs [0 5 10] :mu 5 :n 3)"
   ]
  },
  {
   "cell_type": "code",
   "execution_count": 19,
   "metadata": {},
   "outputs": [
    {
     "data": {
      "text/plain": [
       "'Formula for population variance.'"
      ]
     },
     "execution_count": 19,
     "metadata": {},
     "output_type": "execute_result"
    }
   ],
   "source": [
    "%%hy\n",
    "\n",
    ";; Get docstring.\n",
    "variance.--doc--"
   ]
  },
  {
   "cell_type": "markdown",
   "metadata": {},
   "source": [
    "## Python Interop"
   ]
  },
  {
   "cell_type": "code",
   "execution_count": 20,
   "metadata": {},
   "outputs": [
    {
     "data": {
      "text/html": [
       "$$\\sigma^2\\left(X, \\mu, n\\right)$$"
      ],
      "text/plain": [
       "'\\\\sigma^2\\\\left(X, \\\\mu, n\\\\right)'"
      ]
     },
     "metadata": {},
     "output_type": "display_data"
    },
    {
     "data": {
      "text/html": [
       "$$\\sigma^2\\left(X, \\mu, n\\right) = \\frac{\\sum_{x \\in X} \\left(x - \\mu\\right)^{2}}{n}$$"
      ],
      "text/plain": [
       "'\\\\sigma^2\\\\left(X, \\\\mu, n\\\\right) = \\\\frac{\\\\sum_{x \\\\in X} \\\\left(x - \\\\mu\\\\right)^{2}}{n}'"
      ]
     },
     "metadata": {},
     "output_type": "display_data"
    },
    {
     "name": "stdout",
     "output_type": "stream",
     "text": [
      "16.666666666666668\n"
     ]
    },
    {
     "data": {
      "text/html": [
       "$$\\frac{\\sum_{x \\in \\{1, 2, 3\\}} \\left(x - 2\\right)^{2}}{3}$$"
      ],
      "text/plain": [
       "'\\\\frac{\\\\sum_{x \\\\in \\\\{1, 2, 3\\\\}} \\\\left(x - 2\\\\right)^{2}}{3}'"
      ]
     },
     "metadata": {},
     "output_type": "display_data"
    },
    {
     "name": "stdout",
     "output_type": "stream",
     "text": [
      "0.6666666666666666\n"
     ]
    }
   ],
   "source": [
    "# Use expressions and formulae directly from Python:\n",
    "\n",
    "display(variance.signature_latex())\n",
    "display(variance.latex())\n",
    "print(variance(xs=[0, 5, 10], mu=5, n=3))\n",
    "display(var_expression.latex())\n",
    "print(var_expression())"
   ]
  },
  {
   "cell_type": "markdown",
   "metadata": {},
   "source": [
    "## Equations"
   ]
  },
  {
   "cell_type": "code",
   "execution_count": 21,
   "metadata": {},
   "outputs": [],
   "source": [
    "%%hy\n",
    "\n",
    "(le.def-identifier z r\"\\zeta\")\n",
    "\n",
    ";; Equations are defined as a series of equivalent expressions.\n",
    ";; Useful for working out equation solutions with executable code and then printing out notation.\n",
    "(le.def-equation my-equation\n",
    "                 [x &optional [z 4]]\n",
    "                 \"Equation involving FOIL expansion.\"\n",
    "                 [(add #b(mul (add x 1) (sub x 1)) z)\n",
    "                  (add (sub #b(add #b(sub (pow x 2) x) x) 1) z)\n",
    "                  (add (sub (pow x 2) 1) z)])"
   ]
  },
  {
   "cell_type": "code",
   "execution_count": 22,
   "metadata": {},
   "outputs": [
    {
     "data": {
      "text/html": [
       "$$\\begin{aligned} \\left(x + 1\\right) \\times \\left(x - 1\\right) + \\zeta &= \\left(x^{2} - x + x - 1\\right) + \\zeta \\\\&= \\left(x^{2} - 1\\right) + \\zeta\\end{aligned}$$"
      ],
      "text/plain": [
       "'\\\\begin{aligned} \\\\left(x + 1\\\\right) \\\\times \\\\left(x - 1\\\\right) + \\\\zeta &= \\\\left(x^{2} - x + x - 1\\\\right) + \\\\zeta \\\\\\\\&= \\\\left(x^{2} - 1\\\\right) + \\\\zeta\\\\end{aligned}'"
      ]
     },
     "metadata": {},
     "output_type": "display_data"
    },
    {
     "data": {
      "text/html": [
       "$$\\begin{aligned} \\left(5 + 1\\right) \\times \\left(5 - 1\\right) + 4 &= \\left(5^{2} - 5 + 5 - 1\\right) + 4 \\\\&= \\left(5^{2} - 1\\right) + 4\\end{aligned}$$"
      ],
      "text/plain": [
       "'\\\\begin{aligned} \\\\left(5 + 1\\\\right) \\\\times \\\\left(5 - 1\\\\right) + 4 &= \\\\left(5^{2} - 5 + 5 - 1\\\\right) + 4 \\\\\\\\&= \\\\left(5^{2} - 1\\\\right) + 4\\\\end{aligned}'"
      ]
     },
     "metadata": {},
     "output_type": "display_data"
    },
    {
     "data": {
      "text/plain": [
       "28"
      ]
     },
     "execution_count": 22,
     "metadata": {},
     "output_type": "execute_result"
    }
   ],
   "source": [
    "%%hy\n",
    "\n",
    "(display (.latex my-equation))\n",
    "(display (.latex my-equation :x 5))\n",
    "(my-equation :x 5)"
   ]
  },
  {
   "cell_type": "code",
   "execution_count": 23,
   "metadata": {},
   "outputs": [
    {
     "data": {
      "text/html": [
       "$$1 + \\left(\\left(5 + 1\\right) \\times \\left(5 - 1\\right) + 4\\right)$$"
      ],
      "text/plain": [
       "'1 + \\\\left(\\\\left(5 + 1\\\\right) \\\\times \\\\left(5 - 1\\\\right) + 4\\\\right)'"
      ]
     },
     "metadata": {},
     "output_type": "display_data"
    },
    {
     "name": "stdout",
     "output_type": "stream",
     "text": [
      "29\n"
     ]
    }
   ],
   "source": [
    "%%hy\n",
    "\n",
    "(setv eq-expr (le.expr (add 1 (my-equation 5))))\n",
    "(display (.latex eq-expr))\n",
    "(print (eq-expr))"
   ]
  },
  {
   "cell_type": "code",
   "execution_count": 24,
   "metadata": {},
   "outputs": [
    {
     "data": {
      "text/plain": [
       "'Equation involving FOIL expansion.'"
      ]
     },
     "execution_count": 24,
     "metadata": {},
     "output_type": "execute_result"
    }
   ],
   "source": [
    "%%hy\n",
    "\n",
    "my-equation.--doc--"
   ]
  },
  {
   "cell_type": "code",
   "execution_count": 25,
   "metadata": {
    "scrolled": true
   },
   "outputs": [
    {
     "data": {
      "text/html": [
       "$$\\begin{aligned} x + 1 &= x - 1\\end{aligned}$$"
      ],
      "text/plain": [
       "'\\\\begin{aligned} x + 1 &= x - 1\\\\end{aligned}'"
      ]
     },
     "metadata": {},
     "output_type": "display_data"
    },
    {
     "name": "stdout",
     "output_type": "stream",
     "text": [
      "While evaluating LeEquation#bad-equation with arguments [x=5]: result '4' of LeExpression#(LeCallableOperator#sub 5 1) did not equal result '6' of LeExpression#(LeCallableOperator#sub 5 1)\n"
     ]
    }
   ],
   "source": [
    "%%hy\n",
    "\n",
    "(le.def-equation bad-equation [x]\n",
    "                 [(add x 1)\n",
    "                  (sub x 1)])\n",
    "\n",
    "(display (.latex bad-equation))\n",
    "\n",
    ";; When executing an equation, all expressions are executed,\n",
    ";; and an exception is raised if any of the results were not equal.\n",
    "(try\n",
    " (bad-equation :x 5)\n",
    " (except [ex LeEquationError]\n",
    "  (print ex)))"
   ]
  },
  {
   "cell_type": "markdown",
   "metadata": {},
   "source": [
    "## Unit Testing"
   ]
  },
  {
   "cell_type": "code",
   "execution_count": 26,
   "metadata": {},
   "outputs": [],
   "source": [
    "%%hy\n",
    "\n",
    "(assert (= ((le.expr (add 1 1)) 2)))\n",
    "(assert (= (variance [1 2 3] 2 3) (/ 2 3)))"
   ]
  },
  {
   "cell_type": "code",
   "execution_count": 27,
   "metadata": {},
   "outputs": [],
   "source": [
    "assert var_expression() == 2 / 3\n",
    "assert variance([1, 2, 3], 2, 3) == 2 / 3"
   ]
  },
  {
   "cell_type": "markdown",
   "metadata": {},
   "source": [
    "## Extending Lemma"
   ]
  },
  {
   "cell_type": "code",
   "execution_count": 28,
   "metadata": {},
   "outputs": [
    {
     "data": {
      "text/html": [
       "$$e$$"
      ],
      "text/plain": [
       "'e'"
      ]
     },
     "metadata": {},
     "output_type": "display_data"
    },
    {
     "name": "stdout",
     "output_type": "stream",
     "text": [
      "2.718281828459045\n"
     ]
    }
   ],
   "source": [
    "%%hy\n",
    "\n",
    ";; Define your own constants.\n",
    "(import math)\n",
    "(le.def-constant e \"e\" math.e)\n",
    "\n",
    "(display (.latex e))\n",
    "(print (e))"
   ]
  },
  {
   "cell_type": "code",
   "execution_count": 29,
   "metadata": {},
   "outputs": [
    {
     "data": {
      "text/html": [
       "$$3 - 1$$"
      ],
      "text/plain": [
       "'3 - 1'"
      ]
     },
     "metadata": {},
     "output_type": "display_data"
    },
    {
     "name": "stdout",
     "output_type": "stream",
     "text": [
      "2\n"
     ]
    }
   ],
   "source": [
    "%%hy\n",
    "\n",
    ";; Define operators using lemma expressions.\n",
    "(le.def-operator decrement [val]\n",
    "  (expr (sub val 1)))\n",
    "\n",
    "(setv dec-expr (le.expr (decrement 3)))\n",
    "(display (.latex dec-expr))\n",
    "(print (dec-expr))"
   ]
  },
  {
   "cell_type": "code",
   "execution_count": 30,
   "metadata": {},
   "outputs": [
    {
     "data": {
      "text/html": [
       "$$3 + 1$$"
      ],
      "text/plain": [
       "'3 + 1'"
      ]
     },
     "metadata": {},
     "output_type": "display_data"
    },
    {
     "name": "stdout",
     "output_type": "stream",
     "text": [
      "4\n"
     ]
    }
   ],
   "source": [
    "%%hy\n",
    "\n",
    ";; Define operators using Hy expressions.\n",
    "(le.def-operator increment [val]\n",
    "  (precedence 100)\n",
    "  (latex f\"{val} + 1\")\n",
    "  (hy (+ val 1)))\n",
    "\n",
    "(setv inc-expr (le.expr (increment 3)))\n",
    "(display (.latex inc-expr))\n",
    "(print (inc-expr))"
   ]
  },
  {
   "cell_type": "code",
   "execution_count": 31,
   "metadata": {},
   "outputs": [
    {
     "data": {
      "text/html": [
       "$$3 + 2$$"
      ],
      "text/plain": [
       "'3 + 2'"
      ]
     },
     "metadata": {},
     "output_type": "display_data"
    },
    {
     "name": "stdout",
     "output_type": "stream",
     "text": [
      "5\n"
     ]
    }
   ],
   "source": [
    "%%hy\n",
    "\n",
    "(import [lemma.lang [gen-latex gen-hy]])\n",
    "\n",
    ";; Define operators using Hy macros (arguments are pass-by-name, and\n",
    ";; hy-macro is expected to return a quoted Hy expression). Useful for\n",
    ";; more complex operators that don't just take lemma expressions as\n",
    ";; arguments (like seq-sum).\n",
    "(le.def-operator plus2 [val]\n",
    "  (precedence 100)\n",
    "  (latex-macro\n",
    "   f\"{(gen-latex val)} + 2\")\n",
    "  (hy-macro\n",
    "   `(+ ~(gen-hy val) 2)))\n",
    "\n",
    "(setv plus2-expr (le.expr (plus2 3)))\n",
    "(display (.latex plus2-expr))\n",
    "(print (plus2-expr))"
   ]
  },
  {
   "cell_type": "code",
   "execution_count": 32,
   "metadata": {
    "scrolled": true
   },
   "outputs": [
    {
     "data": {
      "text/html": [
       "$$\\left(\\sum_{x \\in \\{1, 2, 3\\}} \\frac{x}{|\\{1, 2, 3\\}|}\\right) + \\left(\\sum_{y \\in \\{4, 5, 6\\}} \\frac{y}{|\\{4, 5, 6\\}|}\\right) + \\left(\\sum_{\\gamma \\in \\{7, 8, 9\\}} \\frac{\\gamma}{|\\{7, 8, 9\\}|}\\right)$$"
      ],
      "text/plain": [
       "'\\\\left(\\\\sum_{x \\\\in \\\\{1, 2, 3\\\\}} \\\\frac{x}{|\\\\{1, 2, 3\\\\}|}\\\\right) + \\\\left(\\\\sum_{y \\\\in \\\\{4, 5, 6\\\\}} \\\\frac{y}{|\\\\{4, 5, 6\\\\}|}\\\\right) + \\\\left(\\\\sum_{\\\\gamma \\\\in \\\\{7, 8, 9\\\\}} \\\\frac{\\\\gamma}{|\\\\{7, 8, 9\\\\}|}\\\\right)'"
      ]
     },
     "metadata": {},
     "output_type": "display_data"
    },
    {
     "name": "stdout",
     "output_type": "stream",
     "text": [
      "15.0\n"
     ]
    }
   ],
   "source": [
    "%%hy\n",
    "\n",
    ";; Functions can accept optional args with default values (&rest and &kwargs also work).\n",
    "(le.def-operator mean\n",
    "  [vals &optional [val x]]\n",
    "  (expr (seq-sum [val vals] (div val (length vals)))))\n",
    "\n",
    "(le.def-identifier g r\"\\gamma\")\n",
    "\n",
    "(setv mean-example (le.expr (add (mean [1 2 3]) (mean [4 5 6] y) (mean [7 8 9] g))))\n",
    "(display (.latex mean-example))\n",
    "(print (mean-example))"
   ]
  },
  {
   "cell_type": "markdown",
   "metadata": {},
   "source": [
    "## Next Steps\n",
    "\n",
    "* [API reference](https://ben-denham.github.io/lemma/#/lemma.core)\n",
    "* [Source-code for `lemma.domain.algebra`](https://github.com/ben-denham/lemma/blob/master/lemma/domain/algebra.hy) (useful reference for writing your own domains of operators)\n",
    "* [Documentation home](https://ben-denham.github.io/lemma)"
   ]
  },
  {
   "cell_type": "code",
   "execution_count": null,
   "metadata": {},
   "outputs": [],
   "source": []
  }
 ],
 "metadata": {
  "kernelspec": {
   "display_name": "Python 3",
   "language": "python",
   "name": "python3"
  },
  "language_info": {
   "codemirror_mode": {
    "name": "ipython",
    "version": 3
   },
   "file_extension": ".py",
   "mimetype": "text/x-python",
   "name": "python",
   "nbconvert_exporter": "python",
   "pygments_lexer": "ipython3",
   "version": "3.7.3"
  }
 },
 "nbformat": 4,
 "nbformat_minor": 2
}
