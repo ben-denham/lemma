{
 "cells": [
  {
   "cell_type": "markdown",
   "metadata": {},
   "source": [
    "# Lemma Tutorial\n",
    "\n",
    "This tutorial will take you on a tour of what you can achieve with Lemma, including:\n",
    "\n",
    "* Using the Lemma syntax to write mathematical expressions that can be\n",
    "  both formatted as LaTeX and evaluated in Python \n",
    "* Defining formulas that can be used and tested from Python code.\n",
    "* Check that each step in your algebraic transformation results in an equivalent expression.\n",
    "* Extending the Lemma syntax with your own custom operators.\n",
    "\n",
    "\n",
    "\n",
    "## Lemma is built on Hy\n",
    "\n",
    "To get the most out of this tutorial, you should have a basic familiarity with the Hy programming language, which Lemma uses as the foundation for its syntax. Hy is essentially a Lisp syntax on top of the Python programming language, so if you're familiar with Python you should find learning Hy quite easy.\n",
    "\n",
    "If you're not familiar with Hy, you should have a quick read through the [Hy Tutorial](https://docs.hylang.org/en/stable/tutorial.html) or [Learn Hy in Y Minutes](https://learnxinyminutes.com/docs/hy/)."
   ]
  },
  {
   "cell_type": "markdown",
   "metadata": {},
   "source": [
    "## Installation and Importing\n",
    "\n",
    "Install Lemma with `pip`:"
   ]
  },
  {
   "cell_type": "code",
   "execution_count": 1,
   "metadata": {},
   "outputs": [
    {
     "name": "stdout",
     "output_type": "stream",
     "text": [
      "Requirement already satisfied: lemma in /home/jovyan/lemma (0.1.dev0)\n",
      "Requirement already satisfied: hy>=0.18.0 in /home/jovyan/lemma/.pip-packages/lib/python3.7/site-packages (from lemma) (0.18.0)\n",
      "Requirement already satisfied: rply>=0.7.7 in /home/jovyan/lemma/.pip-packages/lib/python3.7/site-packages (from hy>=0.18.0->lemma) (0.7.7)\n",
      "Requirement already satisfied: colorama in /home/jovyan/lemma/.pip-packages/lib/python3.7/site-packages (from hy>=0.18.0->lemma) (0.4.3)\n",
      "Requirement already satisfied: funcparserlib>=0.3.6 in /home/jovyan/lemma/.pip-packages/lib/python3.7/site-packages (from hy>=0.18.0->lemma) (0.3.6)\n",
      "Requirement already satisfied: astor>=0.8 in /opt/conda/lib/python3.7/site-packages (from hy>=0.18.0->lemma) (0.8.0)\n",
      "Requirement already satisfied: appdirs in /home/jovyan/lemma/.pip-packages/lib/python3.7/site-packages (from rply>=0.7.7->hy>=0.18.0->lemma) (1.4.3)\n"
     ]
    }
   ],
   "source": [
    "%%bash\n",
    "\n",
    "python -m pip install lemma"
   ]
  },
  {
   "cell_type": "markdown",
   "metadata": {},
   "source": [
    "When working from a Jupyter notebook, load the `lemma.ipython` extension to use `%%hy` and `%%lemma` [magics](https://ben-denham.github.io/lemma/#/installation?id=jupyteripython-notebooks) and enable automatic formatting of Lemma objects."
   ]
  },
  {
   "cell_type": "code",
   "execution_count": 2,
   "metadata": {},
   "outputs": [],
   "source": [
    "%load_ext lemma.ipython"
   ]
  },
  {
   "cell_type": "markdown",
   "metadata": {},
   "source": [
    "To use Lemma in a `.hy` file or notebook, require `lemma.core` and load the operators you want to use from their respective \"domain\" modules:"
   ]
  },
  {
   "cell_type": "code",
   "execution_count": 3,
   "metadata": {},
   "outputs": [],
   "source": [
    "%%hy\n",
    ";; Use the %%hy cell magic to evaluate Hy code\n",
    "\n",
    "(require [lemma.core :as le])\n",
    "(import [lemma.domain.algebra [seq-sum pow length add sub PI\n",
    "                               div/frac :as div pow\n",
    "                               mul/times :as mul]])"
   ]
  },
  {
   "cell_type": "markdown",
   "metadata": {},
   "source": [
    "## Lemma Expressions\n",
    "\n",
    "We can express mathematical operations as Lemma *expressions*.\n",
    "\n",
    "An expression can be rendered as **LaTeX math notation** AND **evaluated to a Python/Hy value**:"
   ]
  },
  {
   "cell_type": "code",
   "execution_count": 4,
   "metadata": {},
   "outputs": [
    {
     "data": {
      "text/html": [
       "<table class=\"lemma-table\"><tr><td style=\"font-size: 14px; padding: 20px;\">$$\\pi$$</td><td style=\"font-size: 14px; padding: 20px;\">3.141592653589793</td></tr><tr><td style=\"font-size: 14px; padding: 20px;\">$$3 + 0.14$$</td><td style=\"font-size: 14px; padding: 20px;\">3.14</td></tr><tr><td style=\"font-size: 14px; padding: 20px;\">$$\\frac{22}{7}$$</td><td style=\"font-size: 14px; padding: 20px;\">3.142857142857143</td></tr><tr><td style=\"font-size: 14px; padding: 20px;\">$$\\sum_{x \\in \\{6, 0.2, 0.08\\}} \\frac{x}{2}$$</td><td style=\"font-size: 14px; padding: 20px;\">3.14</td></tr></table>"
      ],
      "text/plain": [
       "<IPython.core.display.HTML object>"
      ]
     },
     "execution_count": 4,
     "metadata": {},
     "output_type": "execute_result"
    }
   ],
   "source": [
    "%%lemma\n",
    ";; Use the %%lemma cell magic to directly evaluate Lemma expressions\n",
    "\n",
    "PI\n",
    "\n",
    "(add 3 0.14)\n",
    "\n",
    "(div 22 7)\n",
    "\n",
    "(seq-sum\n",
    "    [x [6 0.2 0.08]]\n",
    "    (div x 2))"
   ]
  },
  {
   "cell_type": "markdown",
   "metadata": {},
   "source": [
    "Use `le.expr` to define an expression in Hy code:"
   ]
  },
  {
   "cell_type": "code",
   "execution_count": 5,
   "metadata": {},
   "outputs": [
    {
     "data": {
      "text/html": [
       "<table class=\"lemma-table\"><tr><td style=\"font-size: 14px; padding: 20px;\">$$\\frac{1}{2}$$</td><td style=\"font-size: 14px; padding: 20px;\">0.5</td></tr></table>"
      ],
      "text/plain": [
       "LeExpression#(LeCallableOperator#div/frac 1 2)"
      ]
     },
     "execution_count": 5,
     "metadata": {},
     "output_type": "execute_result"
    }
   ],
   "source": [
    "%%hy\n",
    "\n",
    ";; `setv` assigns the expression to `my-expr`\n",
    "(setv my-expr (le.expr (div 1 2)))\n",
    "\n",
    "my-expr"
   ]
  },
  {
   "cell_type": "markdown",
   "metadata": {},
   "source": [
    "Get an expression's LaTeX with the `.latex` method, and get its value by calling it as a function:"
   ]
  },
  {
   "cell_type": "code",
   "execution_count": 6,
   "metadata": {},
   "outputs": [
    {
     "name": "stdout",
     "output_type": "stream",
     "text": [
      "LaTeX notation: \\frac{1}{2}\n",
      "Value: 0.5\n"
     ]
    }
   ],
   "source": [
    "%%hy\n",
    "\n",
    "(print \"LaTeX notation:\" (.latex my-expr))\n",
    "(print \"Value:\" (my-expr))"
   ]
  },
  {
   "cell_type": "markdown",
   "metadata": {},
   "source": [
    "## Python Interop\n",
    "\n",
    "Because Lemma objects are just Hy/Python objects, they can be used directly from Python code:"
   ]
  },
  {
   "cell_type": "code",
   "execution_count": 7,
   "metadata": {},
   "outputs": [
    {
     "name": "stdout",
     "output_type": "stream",
     "text": [
      "LaTeX notation: \\frac{1}{2}\n",
      "Value: 0.5\n"
     ]
    },
    {
     "data": {
      "text/html": [
       "<table class=\"lemma-table\"><tr><td style=\"font-size: 14px; padding: 20px;\">$$\\pi + 1$$</td><td style=\"font-size: 14px; padding: 20px;\">4.141592653589793</td></tr></table>"
      ],
      "text/plain": [
       "LeExpression#(LeCallableOperator#add LeConstant#PI 1)"
      ]
     },
     "execution_count": 7,
     "metadata": {},
     "output_type": "execute_result"
    }
   ],
   "source": [
    "# Note that hyphens (-) in Hy variable names are replaced by underscores in Python:\n",
    "print(\"LaTeX notation:\", my_expr.latex())\n",
    "print(\"Value:\", my_expr())\n",
    "\n",
    "# Use the %lemma inline cell magic to embed expressions in Python code:\n",
    "new_expr = %lemma (add PI 1)\n",
    "new_expr"
   ]
  },
  {
   "cell_type": "markdown",
   "metadata": {},
   "source": [
    "## Order of operations\n",
    "\n",
    "Hy automatically inserts parentheses in LaTeX notation to accurately represent the order of operations:"
   ]
  },
  {
   "cell_type": "code",
   "execution_count": 8,
   "metadata": {},
   "outputs": [
    {
     "data": {
      "text/html": [
       "<table class=\"lemma-table\"><tr><td style=\"font-size: 14px; padding: 20px;\">$$\\left(1 + 2\\right) - 3$$</td><td style=\"font-size: 14px; padding: 20px;\">0</td></tr><tr><td style=\"font-size: 14px; padding: 20px;\">$$1 - \\left(2 + 3\\right)$$</td><td style=\"font-size: 14px; padding: 20px;\">-4</td></tr></table>"
      ],
      "text/plain": [
       "<IPython.core.display.HTML object>"
      ]
     },
     "execution_count": 8,
     "metadata": {},
     "output_type": "execute_result"
    }
   ],
   "source": [
    "%%lemma\n",
    "\n",
    "(sub (add 1 2) 3)\n",
    "\n",
    "(sub 1 (add 2 3))"
   ]
  },
  {
   "cell_type": "markdown",
   "metadata": {},
   "source": [
    "Use `#p` to force the insertion of parentheses, and `#b` to explicitly remove them:"
   ]
  },
  {
   "cell_type": "code",
   "execution_count": 9,
   "metadata": {},
   "outputs": [
    {
     "data": {
      "text/html": [
       "<table class=\"lemma-table\"><tr><td style=\"font-size: 14px; padding: 20px;\">$$\\left(1 + 2\\right) + \\frac{2}{3}$$</td><td style=\"font-size: 14px; padding: 20px;\">3.6666666666666665</td></tr><tr><td style=\"font-size: 14px; padding: 20px;\">$$\\left(1 + 2\\right) + \\left(\\frac{2}{3}\\right)$$</td><td style=\"font-size: 14px; padding: 20px;\">3.6666666666666665</td></tr><tr><td style=\"font-size: 14px; padding: 20px;\">$$1 + 2 + \\frac{2}{3}$$</td><td style=\"font-size: 14px; padding: 20px;\">3.6666666666666665</td></tr></table>"
      ],
      "text/plain": [
       "<IPython.core.display.HTML object>"
      ]
     },
     "execution_count": 9,
     "metadata": {},
     "output_type": "execute_result"
    }
   ],
   "source": [
    "%%lemma\n",
    "\n",
    "(add (add 1 2) (div 2 3))\n",
    "\n",
    "(add (add 1 2) #p(div 2 3))\n",
    "\n",
    "(add #b(add 1 2) (div 2 3))"
   ]
  },
  {
   "cell_type": "markdown",
   "metadata": {},
   "source": [
    "## Lemma Identifiers\n",
    "\n"
   ]
  },
  {
   "cell_type": "markdown",
   "metadata": {},
   "source": [
    "When Lemma needs to name an unbound variable in math notation, it defaults to using the name of the associated Hy symbol.\n",
    "\n",
    "For example, `b` in `seq-sum` below:"
   ]
  },
  {
   "cell_type": "code",
   "execution_count": 10,
   "metadata": {},
   "outputs": [
    {
     "data": {
      "text/html": [
       "<table class=\"lemma-table\"><tr><td style=\"font-size: 14px; padding: 20px;\">$$\\sum_{b \\in \\{1, 2, 3\\}} b$$</td><td style=\"font-size: 14px; padding: 20px;\">6</td></tr></table>"
      ],
      "text/plain": [
       "<IPython.core.display.HTML object>"
      ]
     },
     "execution_count": 10,
     "metadata": {},
     "output_type": "execute_result"
    }
   ],
   "source": [
    "%%lemma\n",
    "\n",
    "(seq-sum [b [1 2 3]] b)"
   ]
  },
  {
   "cell_type": "markdown",
   "metadata": {},
   "source": [
    "A Lemma *identifier* can be declared to specify the LaTeX notation to use instead, wherever a symbol is used:"
   ]
  },
  {
   "cell_type": "code",
   "execution_count": 11,
   "metadata": {},
   "outputs": [],
   "source": [
    "%%hy\n",
    "\n",
    "(le.def-identifier beta r\"\\beta\")"
   ]
  },
  {
   "cell_type": "code",
   "execution_count": 12,
   "metadata": {},
   "outputs": [
    {
     "data": {
      "text/html": [
       "<table class=\"lemma-table\"><tr><td style=\"font-size: 14px; padding: 20px;\">$$\\sum_{\\beta \\in \\{1, 2, 3\\}} \\beta$$</td><td style=\"font-size: 14px; padding: 20px;\">6</td></tr></table>"
      ],
      "text/plain": [
       "<IPython.core.display.HTML object>"
      ]
     },
     "execution_count": 12,
     "metadata": {},
     "output_type": "execute_result"
    }
   ],
   "source": [
    "%%lemma\n",
    "\n",
    "(seq-sum [beta [1 2 3]] beta)"
   ]
  },
  {
   "cell_type": "markdown",
   "metadata": {},
   "source": [
    "## Lemma Formulas"
   ]
  },
  {
   "cell_type": "markdown",
   "metadata": {},
   "source": [
    "Lemma *formulas* enable you to use the Lemma expression syntax to define reusable functions that can be executed and tested from Hy/Python code, and also used to generate LaTeX notation for documentation.\n",
    "\n",
    "A formula is similar to a normal Hy/Python function, but with a Lemma expression for its body:"
   ]
  },
  {
   "cell_type": "code",
   "execution_count": 13,
   "metadata": {},
   "outputs": [],
   "source": [
    "%%hy\n",
    "\n",
    "(le.def-identifier xs \"X\")\n",
    "(le.def-identifier mu r\"\\mu\")\n",
    "\n",
    "(le.def-formula variance r\"\\sigma^2\"\n",
    "  [xs mu n]\n",
    "  \"Formula for population variance.\"\n",
    "  (div\n",
    "   (seq-sum [x xs]\n",
    "    (pow (sub x mu) 2))\n",
    "   n))"
   ]
  },
  {
   "cell_type": "markdown",
   "metadata": {},
   "source": [
    "Formulas can be used like any other operator in a Lemma expression:"
   ]
  },
  {
   "cell_type": "code",
   "execution_count": 14,
   "metadata": {},
   "outputs": [
    {
     "data": {
      "text/html": [
       "<table class=\"lemma-table\"><tr><td style=\"font-size: 14px; padding: 20px;\">$$\\sigma^2\\left(\\{1, 2, 3\\}, 2, 3\\right)$$</td><td style=\"font-size: 14px; padding: 20px;\">0.6666666666666666</td></tr><tr><td style=\"font-size: 14px; padding: 20px;\">$$\\frac{\\sum_{x \\in \\{1, 2, 3\\}} \\left(x - 2\\right)^{2}}{3}$$</td><td style=\"font-size: 14px; padding: 20px;\">0.6666666666666666</td></tr></table>"
      ],
      "text/plain": [
       "<IPython.core.display.HTML object>"
      ]
     },
     "execution_count": 14,
     "metadata": {},
     "output_type": "execute_result"
    }
   ],
   "source": [
    "%%lemma\n",
    "\n",
    "(variance [1 2 3] :mu 2 :n 3)\n",
    "\n",
    ";; Using formula.op formats the formula using the notation of its definition body:\n",
    "(variance.op [1 2 3] :mu 2 :n 3)"
   ]
  },
  {
   "cell_type": "markdown",
   "metadata": {},
   "source": [
    "Formulas can also be called directly like a Hy/Python function:"
   ]
  },
  {
   "cell_type": "code",
   "execution_count": 15,
   "metadata": {},
   "outputs": [
    {
     "data": {
      "text/plain": [
       "16.666666666666668"
      ]
     },
     "execution_count": 15,
     "metadata": {},
     "output_type": "execute_result"
    }
   ],
   "source": [
    "variance(xs=[0, 5, 10], mu=5, n=3)"
   ]
  },
  {
   "cell_type": "markdown",
   "metadata": {},
   "source": [
    "Calling the `.latex` method of a formula without any arguments returns its full definition:"
   ]
  },
  {
   "cell_type": "code",
   "execution_count": 16,
   "metadata": {},
   "outputs": [
    {
     "data": {
      "text/html": [
       "$$\\sigma^2\\left(X, \\mu, n\\right) = \\frac{\\sum_{x \\in X} \\left(x - \\mu\\right)^{2}}{n}$$"
      ],
      "text/plain": [
       "'\\\\sigma^2\\\\left(X, \\\\mu, n\\\\right) = \\\\frac{\\\\sum_{x \\\\in X} \\\\left(x - \\\\mu\\\\right)^{2}}{n}'"
      ]
     },
     "execution_count": 16,
     "metadata": {},
     "output_type": "execute_result"
    }
   ],
   "source": [
    "variance.latex()"
   ]
  },
  {
   "cell_type": "markdown",
   "metadata": {},
   "source": [
    "Formulas have full support for positional, keyword, and optional arguments, see [the docs](https://ben-denham.github.io/lemma/#/lemma.core?id=formulas) for more details."
   ]
  },
  {
   "cell_type": "markdown",
   "metadata": {},
   "source": [
    "## Lemma Equations\n",
    "\n",
    "Lemma *equations* allow you to define a single parameterised computation with multiple equivalent Lemma expressions. Because Lemma will raise an exception if any of the expressions evaluate to a different result, they are a great way to check that all of the steps in an algebraic transformation are equivalent:"
   ]
  },
  {
   "cell_type": "code",
   "execution_count": 17,
   "metadata": {},
   "outputs": [],
   "source": [
    "%%hy\n",
    "\n",
    "(le.def-equation my-equation\n",
    "    [x]\n",
    "    \"Equation involving FOIL expansion.\"\n",
    "    [#b(mul (add x 1) (sub x 1))\n",
    "     (sub #b(add #b(sub (pow x 2) x) x) 1)\n",
    "     (sub (pow x 2) 1)])"
   ]
  },
  {
   "cell_type": "markdown",
   "metadata": {},
   "source": [
    "Equations are similar to formulas in that they can be used as Hy/Python functions or from Lemma expressions:"
   ]
  },
  {
   "cell_type": "code",
   "execution_count": 18,
   "metadata": {},
   "outputs": [
    {
     "data": {
      "text/html": [
       "$$\\begin{aligned} \\left(x + 1\\right) \\times \\left(x - 1\\right) &= x^{2} - x + x - 1 \\\\&= x^{2} - 1\\end{aligned}$$"
      ],
      "text/plain": [
       "'\\\\begin{aligned} \\\\left(x + 1\\\\right) \\\\times \\\\left(x - 1\\\\right) &= x^{2} - x + x - 1 \\\\\\\\&= x^{2} - 1\\\\end{aligned}'"
      ]
     },
     "metadata": {},
     "output_type": "display_data"
    },
    {
     "data": {
      "text/html": [
       "$$\\begin{aligned} \\left(5 + 1\\right) \\times \\left(5 - 1\\right) &= 5^{2} - 5 + 5 - 1 \\\\&= 5^{2} - 1\\end{aligned}$$"
      ],
      "text/plain": [
       "'\\\\begin{aligned} \\\\left(5 + 1\\\\right) \\\\times \\\\left(5 - 1\\\\right) &= 5^{2} - 5 + 5 - 1 \\\\\\\\&= 5^{2} - 1\\\\end{aligned}'"
      ]
     },
     "metadata": {},
     "output_type": "display_data"
    },
    {
     "name": "stdout",
     "output_type": "stream",
     "text": [
      "24\n"
     ]
    }
   ],
   "source": [
    "%%hy\n",
    "\n",
    "(display (.latex my-equation))\n",
    "(display (.latex my-equation :x 5))\n",
    "(print (my-equation :x 5))"
   ]
  },
  {
   "cell_type": "code",
   "execution_count": 19,
   "metadata": {},
   "outputs": [
    {
     "data": {
      "text/html": [
       "<table class=\"lemma-table\"><tr><td style=\"font-size: 14px; padding: 20px;\">$$\\left(5 + 1\\right) \\times \\left(5 - 1\\right) + 4$$</td><td style=\"font-size: 14px; padding: 20px;\">28</td></tr></table>"
      ],
      "text/plain": [
       "<IPython.core.display.HTML object>"
      ]
     },
     "execution_count": 19,
     "metadata": {},
     "output_type": "execute_result"
    }
   ],
   "source": [
    "%%lemma\n",
    "\n",
    ";; When used as an operator, the first expression in the definition of an equation is used.\n",
    "(add (my-equation :x 5) 4)"
   ]
  },
  {
   "cell_type": "markdown",
   "metadata": {},
   "source": [
    "Lemma raises an exception if any of the expressions do not evaluate to the same result:"
   ]
  },
  {
   "cell_type": "code",
   "execution_count": 20,
   "metadata": {},
   "outputs": [
    {
     "data": {
      "text/html": [
       "$$\\begin{aligned} x + 1 &= x - 1\\end{aligned}$$"
      ],
      "text/plain": [
       "'\\\\begin{aligned} x + 1 &= x - 1\\\\end{aligned}'"
      ]
     },
     "metadata": {},
     "output_type": "display_data"
    },
    {
     "name": "stdout",
     "output_type": "stream",
     "text": [
      "While evaluating LeEquation#bad-equation with arguments [x=5]: result '4' of LeExpression#(LeCallableOperator#sub 5 1) did not equal result '6' of LeExpression#(LeCallableOperator#sub 5 1)\n"
     ]
    }
   ],
   "source": [
    "%%hy\n",
    "\n",
    "(import [lemma.exceptions [LeEquationError]])\n",
    "(le.def-equation bad-equation [x]\n",
    "                 [(add x 1)\n",
    "                  (sub x 1)])\n",
    "\n",
    "(display (.latex bad-equation))\n",
    "\n",
    ";; When executing an equation, all expressions are executed,\n",
    ";; and an exception is raised if any of the results were not equal.\n",
    "(try\n",
    " (bad-equation :x 5)\n",
    " (except [ex LeEquationError]\n",
    "  (print ex)))"
   ]
  },
  {
   "cell_type": "markdown",
   "metadata": {},
   "source": [
    "## Extending Lemma\n",
    "\n",
    "Lemma is designed to be an extensible language. Allowing you to specify notation for all the computations you need in your target mathematical domain.\n",
    "\n",
    "You can define your own constants with `le.def-constant`:"
   ]
  },
  {
   "cell_type": "code",
   "execution_count": 21,
   "metadata": {},
   "outputs": [],
   "source": [
    "%%hy\n",
    "\n",
    "(import math)\n",
    "(le.def-constant e \"e\" math.e)"
   ]
  },
  {
   "cell_type": "code",
   "execution_count": 22,
   "metadata": {},
   "outputs": [
    {
     "data": {
      "text/html": [
       "<table class=\"lemma-table\"><tr><td style=\"font-size: 14px; padding: 20px;\">$$e + 1$$</td><td style=\"font-size: 14px; padding: 20px;\">3.718281828459045</td></tr></table>"
      ],
      "text/plain": [
       "<IPython.core.display.HTML object>"
      ]
     },
     "execution_count": 22,
     "metadata": {},
     "output_type": "execute_result"
    }
   ],
   "source": [
    "%%lemma\n",
    "\n",
    "(add e 1)"
   ]
  },
  {
   "cell_type": "markdown",
   "metadata": {},
   "source": [
    "You can even define your own operators in terms of Lemma expressions..."
   ]
  },
  {
   "cell_type": "code",
   "execution_count": 23,
   "metadata": {},
   "outputs": [],
   "source": [
    "%%hy\n",
    "\n",
    ";; Define operators using lemma expressions.\n",
    "(le.def-operator decrement [val]\n",
    "  (expr (sub val 1)))"
   ]
  },
  {
   "cell_type": "code",
   "execution_count": 24,
   "metadata": {},
   "outputs": [
    {
     "data": {
      "text/html": [
       "<table class=\"lemma-table\"><tr><td style=\"font-size: 14px; padding: 20px;\">$$3 - 1$$</td><td style=\"font-size: 14px; padding: 20px;\">2</td></tr></table>"
      ],
      "text/plain": [
       "<IPython.core.display.HTML object>"
      ]
     },
     "execution_count": 24,
     "metadata": {},
     "output_type": "execute_result"
    }
   ],
   "source": [
    "%%lemma\n",
    "\n",
    "(decrement 3)"
   ]
  },
  {
   "cell_type": "markdown",
   "metadata": {},
   "source": [
    "...Hy expressions with custom LaTeX..."
   ]
  },
  {
   "cell_type": "code",
   "execution_count": 25,
   "metadata": {},
   "outputs": [],
   "source": [
    "%%hy\n",
    "\n",
    "(le.def-operator increment [val]\n",
    "  (precedence 100)\n",
    "  (latex f\"{val} + 1\")\n",
    "  (hy (+ val 1)))"
   ]
  },
  {
   "cell_type": "code",
   "execution_count": 26,
   "metadata": {},
   "outputs": [
    {
     "data": {
      "text/html": [
       "<table class=\"lemma-table\"><tr><td style=\"font-size: 14px; padding: 20px;\">$$3 + 1$$</td><td style=\"font-size: 14px; padding: 20px;\">4</td></tr></table>"
      ],
      "text/plain": [
       "<IPython.core.display.HTML object>"
      ]
     },
     "execution_count": 26,
     "metadata": {},
     "output_type": "execute_result"
    }
   ],
   "source": [
    "%%lemma\n",
    "\n",
    "(increment 3)"
   ]
  },
  {
   "cell_type": "markdown",
   "metadata": {},
   "source": [
    "...or even macros:"
   ]
  },
  {
   "cell_type": "code",
   "execution_count": 27,
   "metadata": {},
   "outputs": [],
   "source": [
    "%%hy\n",
    "\n",
    "(import [lemma.lang [gen-latex gen-hy]])\n",
    "\n",
    ";; Define operators using Hy macros (arguments are pass-by-name, and\n",
    ";; hy-macro is expected to return a quoted Hy expression). Useful for\n",
    ";; more complex operators that don't just take lemma expressions as\n",
    ";; arguments (like seq-sum).\n",
    "(le.def-operator plus2 [val]\n",
    "  (precedence 100)\n",
    "  (latex-macro\n",
    "   f\"{(gen-latex val)} + 2\")\n",
    "  (hy-macro\n",
    "   `(+ ~(gen-hy val) 2)))"
   ]
  },
  {
   "cell_type": "code",
   "execution_count": 28,
   "metadata": {},
   "outputs": [
    {
     "data": {
      "text/html": [
       "<table class=\"lemma-table\"><tr><td style=\"font-size: 14px; padding: 20px;\">$$3 + 2$$</td><td style=\"font-size: 14px; padding: 20px;\">5</td></tr></table>"
      ],
      "text/plain": [
       "<IPython.core.display.HTML object>"
      ]
     },
     "execution_count": 28,
     "metadata": {},
     "output_type": "execute_result"
    }
   ],
   "source": [
    "%%lemma\n",
    "\n",
    "(plus2 3)"
   ]
  },
  {
   "cell_type": "markdown",
   "metadata": {},
   "source": [
    "More information about extending Lemma is available in [the docs](https://ben-denham.github.io/lemma/#/lemma.core?id=defining-custom-operators)."
   ]
  },
  {
   "cell_type": "markdown",
   "metadata": {},
   "source": [
    "## Next Steps\n",
    "\n",
    "* [API reference](https://ben-denham.github.io/lemma/#/lemma.core)\n",
    "* [Source-code for `lemma.domain.algebra`](https://github.com/ben-denham/lemma/blob/master/lemma/domain/algebra.hy) (useful reference for writing your own domains)\n",
    "* [Documentation home](https://ben-denham.github.io/lemma)"
   ]
  },
  {
   "cell_type": "code",
   "execution_count": null,
   "metadata": {},
   "outputs": [],
   "source": []
  }
 ],
 "metadata": {
  "kernelspec": {
   "display_name": "Python 3",
   "language": "python",
   "name": "python3"
  },
  "language_info": {
   "codemirror_mode": {
    "name": "ipython",
    "version": 3
   },
   "file_extension": ".py",
   "mimetype": "text/x-python",
   "name": "python",
   "nbconvert_exporter": "python",
   "pygments_lexer": "ipython3",
   "version": "3.7.3"
  }
 },
 "nbformat": 4,
 "nbformat_minor": 2
}
