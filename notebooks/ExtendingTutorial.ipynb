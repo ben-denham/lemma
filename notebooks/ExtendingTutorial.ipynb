{
 "cells": [
  {
   "cell_type": "code",
   "execution_count": null,
   "metadata": {},
   "outputs": [],
   "source": [
    "from IPython.core.magic import register_line_cell_magic\n",
    "from IPython.display import display, Math\n",
    "\n",
    "@register_line_cell_magic\n",
    "def hy(line, cell=None):\n",
    "    \"Simple cell magic to execute Hy code within a Python kernel.\"\n",
    "    import hy; code = (line or \"\") + (cell or \"\")\n",
    "    return hy.eval(hy.read_str(\"(do\\n\" + code + \"\\n)\\n\"), globals())\n",
    "del hy\n",
    "\n",
    "def print_math(math):\n",
    "    \"Prints formatted LaTeX math notation.\"\n",
    "    display(Math(math))"
   ]
  },
  {
   "cell_type": "code",
   "execution_count": null,
   "metadata": {},
   "outputs": [],
   "source": [
    "%%hy\n",
    "\n",
    "(require [lemma.core :as le])\n",
    "(import [lemma.core [LeEquationError]])"
   ]
  },
  {
   "cell_type": "markdown",
   "metadata": {},
   "source": [
    "## Next Steps\n",
    "\n",
    "* [API reference](https://ben-denham.github.io/lemma/#/lemma.core)\n",
    "* [Source-code for `lemma.algebra`](https://github.com/ben-denham/lemma/blob/master/lemma/algebra.hy) (useful reference for writing your own notation extensions)\n",
    "* [Documentation home](https://ben-denham.github.io/lemma)"
   ]
  },
  {
   "cell_type": "code",
   "execution_count": null,
   "metadata": {},
   "outputs": [],
   "source": []
  }
 ],
 "metadata": {
  "kernelspec": {
   "display_name": "Python 3",
   "language": "python",
   "name": "python3"
  },
  "language_info": {
   "codemirror_mode": {
    "name": "ipython",
    "version": 3
   },
   "file_extension": ".py",
   "mimetype": "text/x-python",
   "name": "python",
   "nbconvert_exporter": "python",
   "pygments_lexer": "ipython3",
   "version": "3.7.3"
  }
 },
 "nbformat": 4,
 "nbformat_minor": 2
}
